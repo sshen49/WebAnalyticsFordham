{
 "cells": [
  {
   "cell_type": "code",
   "execution_count": 1,
   "id": "d82191b8",
   "metadata": {},
   "outputs": [],
   "source": [
    "import time   \n",
    "from bs4 import BeautifulSoup \n",
    "from selenium import webdriver\n",
    "from selenium.webdriver.chrome.service import Service\n",
    "from selenium.webdriver.common.by import By"
   ]
  },
  {
   "cell_type": "code",
   "execution_count": 2,
   "id": "0e9f8610",
   "metadata": {},
   "outputs": [],
   "source": [
    "path = \"D:\\chromedriver\"\n",
    "s=Service(path)\n",
    "browser = webdriver.Chrome(service=s)"
   ]
  },
  {
   "cell_type": "code",
   "execution_count": 3,
   "id": "c0f298f5",
   "metadata": {},
   "outputs": [],
   "source": [
    "#Add the url of five destinations that we want to search into a dictionary in order to get the price of tickets one by one.\n",
    "#In each url we choose the economy class, non-stop flight and one carry on baggage firstly, so we don't need to click these buttons later.\n",
    "url_dic = {'BOS':'https://www.google.com/travel/flights/search?tfs=CBwQAhomag0IAhIJL20vMDJfMjg2EgoyMDIyLTEyLTIzcgcIARIDQk9TKABwAYIBCwj___________8BQAFIAZgBAmoEEAEYAA&tfu=EgYIARABGAA',\n",
    "          'LAS':'https://www.google.com/travel/flights/search?tfs=CBwQAhomag0IAhIJL20vMDJfMjg2EgoyMDIyLTEyLTIzcgcIARIDTEFTKABwAYIBCwj___________8BQAFIAZgBAmoEEAEYAA&tfu=EgYIARABGAA',\n",
    "          'LAX':'https://www.google.com/travel/flights/search?tfs=CBwQAhomag0IAhIJL20vMDJfMjg2EgoyMDIyLTEyLTIzcgcIARIDTEFYKABwAYIBCwj___________8BQAFIAZgBAmoEEAEYAA&tfu=EgYIARABGAA',\n",
    "          'SEA':'https://www.google.com/travel/flights/search?tfs=CBwQAhomag0IAhIJL20vMDJfMjg2EgoyMDIyLTEyLTIzcgcIARIDU0VBKABwAYIBCwj___________8BQAFIAZgBAmoEEAEYAA&tfu=EgYIAhABGAA',\n",
    "           'IAH':'https://www.google.com/travel/flights/search?tfs=CBwQAhomag0IAhIJL20vMDJfMjg2EgoyMDIyLTEyLTIzcgcIARIDSUFIKABwAYIBCwj___________8BQAFIAZgBAmoEEAEYAA&tfu=EgYIAhABGAA'\n",
    "           }"
   ]
  },
  {
   "cell_type": "code",
   "execution_count": 4,
   "id": "069ca4b5",
   "metadata": {},
   "outputs": [
    {
     "name": "stderr",
     "output_type": "stream",
     "text": [
      "\n",
      "KeyboardInterrupt\n",
      "\n"
     ]
    }
   ],
   "source": [
    "# In order to select date from 23th Dec to 2nd Jan, we use for loop to click the 'next day' button for 11 times and get the data on each page.\n",
    "# On each page we choose the information of departing data, departing time, duration time, price, airline company, airport of the flight.\n",
    "data = []\n",
    "#Use for loop to get the data of five destinations in the dictionary one by one.\n",
    "for keys in url_dic:\n",
    "    browser.get(url_dic[keys])\n",
    "\n",
    "    time.sleep(3)\n",
    "    pageNum = 11\n",
    "    day = 23\n",
    "    month = 'Dec'\n",
    "\n",
    "    for i in range(0, pageNum):\n",
    "        page_source = browser.page_source\n",
    "        soup = BeautifulSoup(page_source, 'lxml')\n",
    "        flights_content = soup.find_all('div', class_='yR1fYc')\n",
    "        date = month , day\n",
    "\n",
    "        for flight in flights_content:\n",
    "\n",
    "            departure_time  = 'NA'\n",
    "            duration  = 'NA'\n",
    "            price  = 'NA'\n",
    "            airline_company  = 'NA'\n",
    "            airports = 'NA'\n",
    "\n",
    "            departure_time = flight.find('span', jscontroller ='cNtv4b').text.strip()  \n",
    "            duration = flight.find('div', class_='gvkrdb AdWm1c tPgKwe ogfYpf').text\n",
    "            price = flight.find('div', class_='U3gSDe ETvUZc').text.strip()\n",
    "            airline_company = flight.find('div', class_='sSHqwe tPgKwe ogfYpf').span.text.strip()\n",
    "            airports = flight.find('span', class_='sSHqwe tPgKwe ogfYpf').text.strip()\n",
    "\n",
    "            list_airport = list(airports)\n",
    "            for item in list_airport:\n",
    "                dash = list_airport.index('–')\n",
    "            airport = ''\n",
    "            for x in airports[:3]:\n",
    "                airport+=x\n",
    "            airport += ' - '\n",
    "            for y in airports[dash+1:dash+4]:\n",
    "                airport+=y\n",
    "\n",
    "            data.append([str(date)+'\\t'+departure_time+'\\t'+duration+'\\t'+price+'\\t'+airline_company+'\\t'+airport])\n",
    "        if day <31:\n",
    "            day+=1\n",
    "        else:\n",
    "            month = 'Jan'\n",
    "            day = 1\n",
    "#click next day button after we get all the information we want from one day.\n",
    "        try:\n",
    "            time.sleep(1)\n",
    "            browser.find_element(By.CSS_SELECTOR,'#yDmH0d > c-wiz.zQTmif.SSPGKf > div > div:nth-child(2) > c-wiz > div.cKvRXe > c-wiz > div.PSZ8D.EA71Tc > div.Ep1EJd > div > div.rIZzse > div.bgJkKe.K0Tsu > div > div > div.dvO2xc.k0gFV > div > div > div:nth-child(1) > div > div.oSuIZ.YICvqf.kStSsc.ieVaIb > div > div.WViz0c.CKPWLe.U9gnhd.Xbfhhd > button').click()\n",
    "            time.sleep(4)\n",
    "        except:\n",
    "            print('error',i)\n",
    "            break\n",
    "print(data)"
   ]
  },
  {
   "cell_type": "code",
   "execution_count": null,
   "id": "5f07fec8",
   "metadata": {},
   "outputs": [],
   "source": [
    "#Put the data we get in a file.\n",
    "with open (f'flight.txt', mode='w', encoding='utf-8')as output:\n",
    "    output.write('Date'+'\\t'+'Departure Time'+'\\t'+'Duration'+'\\t'+'Price'+'\\t'+'Airline Company'+'\\t'+ 'Airports' + '\\n')\n",
    "    for i in data:\n",
    "        for x in i:\n",
    "            output.write(str(x)+'\\n')"
   ]
  },
  {
   "cell_type": "code",
   "execution_count": null,
   "id": "ef3281d2",
   "metadata": {},
   "outputs": [],
   "source": []
  }
 ],
 "metadata": {
  "kernelspec": {
   "display_name": "Python 3 (ipykernel)",
   "language": "python",
   "name": "python3"
  },
  "language_info": {
   "codemirror_mode": {
    "name": "ipython",
    "version": 3
   },
   "file_extension": ".py",
   "mimetype": "text/x-python",
   "name": "python",
   "nbconvert_exporter": "python",
   "pygments_lexer": "ipython3",
   "version": "3.9.12"
  }
 },
 "nbformat": 4,
 "nbformat_minor": 5
}
